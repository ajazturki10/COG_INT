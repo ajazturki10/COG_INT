{
  "nbformat": 4,
  "nbformat_minor": 0,
  "metadata": {
    "colab": {
      "name": "truth_table.ipynb",
      "provenance": [],
      "authorship_tag": "ABX9TyOPWnZW9cgU0I/8pOL1we/d",
      "include_colab_link": true
    },
    "kernelspec": {
      "name": "python3",
      "display_name": "Python 3"
    },
    "language_info": {
      "name": "python"
    }
  },
  "cells": [
    {
      "cell_type": "markdown",
      "metadata": {
        "id": "view-in-github",
        "colab_type": "text"
      },
      "source": [
        "<a href=\"https://colab.research.google.com/github/ajazturki10/COG_INT/blob/main/truth_table.ipynb\" target=\"_parent\"><img src=\"https://colab.research.google.com/assets/colab-badge.svg\" alt=\"Open In Colab\"/></a>"
      ]
    },
    {
      "cell_type": "code",
      "execution_count": 22,
      "metadata": {
        "id": "UzG2POBMnwCu"
      },
      "outputs": [],
      "source": [
        "def truth_table(N):\n",
        "  for i in range(2**N):\n",
        "    bin_num = bin(i)[2:]\n",
        "    if len(bin_num) != N:\n",
        "      bin_num = '0'*(N-(len(bin_num))) + bin_num\n",
        "    print(bin_num)"
      ]
    },
    {
      "cell_type": "code",
      "source": [
        "if __name__ == \"__main__\":\n",
        "  N = int(input())\n",
        "  truth_table(N)"
      ],
      "metadata": {
        "colab": {
          "base_uri": "https://localhost:8080/"
        },
        "id": "gk0QV4Rzn6le",
        "outputId": "69d5d079-b218-48ca-9a10-6e443ba07bfa"
      },
      "execution_count": 23,
      "outputs": [
        {
          "output_type": "stream",
          "name": "stdout",
          "text": [
            "4\n",
            "0000\n",
            "0001\n",
            "0010\n",
            "0011\n",
            "0100\n",
            "0101\n",
            "0110\n",
            "0111\n",
            "1000\n",
            "1001\n",
            "1010\n",
            "1011\n",
            "1100\n",
            "1101\n",
            "1110\n",
            "1111\n"
          ]
        }
      ]
    },
    {
      "cell_type": "code",
      "source": [
        ""
      ],
      "metadata": {
        "id": "HRtcmImwn6n9"
      },
      "execution_count": 12,
      "outputs": []
    },
    {
      "cell_type": "code",
      "source": [
        ""
      ],
      "metadata": {
        "id": "b6L4cmNLn6qW"
      },
      "execution_count": null,
      "outputs": []
    }
  ]
}